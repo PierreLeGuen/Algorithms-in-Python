{
 "cells": [
  {
   "cell_type": "markdown",
   "metadata": {},
   "source": [
    "## 1.1 L'interpréteur Python\n",
    "### Exercice 1\n",
    "*Question 1* : Tester les commandes dans le Shell Python"
   ]
  },
  {
   "cell_type": "code",
   "execution_count": null,
   "metadata": {},
   "outputs": [],
   "source": [
    ">>> 1>2\n",
    "False\n",
    ">>> 3.0/2\n",
    "1.5\n",
    ">>> 3/2\n",
    "1.5\n",
    ">>> 3//2\n",
    "1\n",
    ">>> 3%2\n",
    "1\n",
    ">>> 3/2.0\n",
    "1.5\n",
    ">>> i=2\n",
    ">>> i=i+4\n",
    ">>> print(i)\n",
    "6\n",
    ">>> j=5\n",
    ">>> i>j\n",
    "True\n",
    ">>> i != 9\n",
    "True\n",
    ">>> i==9\n",
    "False\n",
    ">>> True and False\n",
    "False\n",
    ">>> True or False\n",
    "True\n",
    ">>> print(non_defini)\n",
    "Traceback (most recent call last):\n",
    "  File \"<pyshell#17>\", line 1, in <module>\n",
    "    print(non_defini)\n",
    "NameError: name 'non_defini' is not defined\n",
    ">>> True and non_defini\n",
    "Traceback (most recent call last):\n",
    "  File \"<pyshell#18>\", line 1, in <module>\n",
    "    True and non_defini\n",
    "NameError: name 'non_defini' is not defined\n",
    ">>> False and non_defini\n",
    "False\n",
    ">>> non_defini and False\n",
    "Traceback (most recent call last):\n",
    "  File \"<pyshell#20>\", line 1, in <module>\n",
    "    non_defini and False\n",
    "NameError: name 'non_defini' is not defined"
   ]
  },
  {
   "cell_type": "markdown",
   "metadata": {},
   "source": [
    "*Question 3* : \n",
    "- Comme prévu, lors d'une comparaison entre True and False, False gagne sur True.\n",
    "- Lorsque nous souhaitons print(non_defini) l'interpréteur sort une erreur car la fonction souhaitée n'existe pas.\n",
    "- Si nous faisons False and non_defini, l'interpréteur lit False and xxx, alors le résultat sera forcément False.\n",
    "\n"
   ]
  },
  {
   "cell_type": "markdown",
   "metadata": {},
   "source": [
    "## 1.2 Variables et affectations\n",
    "### Exercice 2\n",
    "- x=1, affecte 1 à x.\n",
    "- y = 2, y ppv 2.\n",
    "- x=x+y, x ppv 3.\n",
    "- y=x\\*\\*y, y ppv 9.\n",
    "- y, affiche y."
   ]
  },
  {
   "cell_type": "code",
   "execution_count": null,
   "metadata": {},
   "outputs": [],
   "source": [
    ">>> x=1\n",
    ">>> y=2\n",
    ">>> x=x+y\n",
    ">>> y=x**y\n",
    ">>> y\n",
    "9"
   ]
  },
  {
   "cell_type": "markdown",
   "metadata": {},
   "source": [
    "## 1.3 Les fonctions d'entrée / sortie\n",
    "- print : affiche texte.\n",
    "- input : rentrer par l'utilisateur du texte."
   ]
  },
  {
   "cell_type": "markdown",
   "metadata": {},
   "source": [
    "## 1.4 Ecrire des programmes\n",
    "-Premier bug : # coding=UTF-8\n",
    "-Syntax for"
   ]
  },
  {
   "cell_type": "code",
   "execution_count": 2,
   "metadata": {},
   "outputs": [
    {
     "name": "stdout",
     "output_type": "stream",
     "text": [
      "Bonjour !\n",
      "Les entiers de 0 à 4 sont :\n",
      "0\n",
      "1\n",
      "2\n",
      "3\n",
      "4\n"
     ]
    }
   ],
   "source": [
    "# coding=UTF-8\n",
    "print(\"Bonjour !\")\n",
    "print(\"Les entiers de 0 à 4 sont :\")\n",
    "for i in range(5):\n",
    "    print(i)"
   ]
  },
  {
   "cell_type": "markdown",
   "metadata": {},
   "source": [
    "## 1.5 Déboguage avec IDLE\n",
    "### Exercice 3\n",
    "En utilisant le débogueur nous voyons bien les valeurs s'incrémenter"
   ]
  },
  {
   "cell_type": "code",
   "execution_count": 3,
   "metadata": {},
   "outputs": [
    {
     "name": "stdout",
     "output_type": "stream",
     "text": [
      "1\n",
      "1\n",
      "2\n",
      "3\n",
      "5\n",
      "8\n"
     ]
    }
   ],
   "source": [
    "a=0\n",
    "b=1\n",
    "while b<10:\n",
    "    print(b)\n",
    "    c=a+b\n",
    "    a=b\n",
    "    b=c"
   ]
  },
  {
   "cell_type": "markdown",
   "metadata": {},
   "source": [
    "## 2 Premiers problèmes\n",
    "### Exercice 4"
   ]
  },
  {
   "cell_type": "code",
   "execution_count": 5,
   "metadata": {},
   "outputs": [
    {
     "name": "stdout",
     "output_type": "stream",
     "text": [
      "1\n",
      "2\n",
      "7\n",
      "16\n"
     ]
    }
   ],
   "source": [
    "#polynome.py\n",
    "def polynome(x):\n",
    "    return (2*x**2-x+1)\n",
    "for y in range(4):\n",
    "    print(polynome(y))"
   ]
  },
  {
   "cell_type": "code",
   "execution_count": 13,
   "metadata": {},
   "outputs": [
    {
     "name": "stdout",
     "output_type": "stream",
     "text": [
      "Moyenne numéro 0 : 12.5\n",
      "Moyenne numéro 1 : 16.5\n",
      "Moyenne numéro 2 : 17.5\n"
     ]
    }
   ],
   "source": [
    "#moyenne.py\n",
    "a=[11,18,20]\n",
    "b=[14,15,15]\n",
    "def moyenne(x,y):\n",
    "    return (x+y)/2\n",
    "for i in range(3):\n",
    "    print(\"Moyenne numéro \"+str(i)+ \" : \"+ str(moyenne(a[i],b[i])))"
   ]
  },
  {
   "cell_type": "code",
   "execution_count": 14,
   "metadata": {},
   "outputs": [
    {
     "name": "stdout",
     "output_type": "stream",
     "text": [
      "5 n'est pas divisible par 3\n",
      "6 est divisible par 2\n",
      "9 est divisible par 3\n"
     ]
    }
   ],
   "source": [
    "#arithmetique.py\n",
    "def est_divisible_par(n,k):\n",
    "    if n%k == 0:\n",
    "        print(str(n)+\" est divisible par \"+str(k))\n",
    "    else:\n",
    "        print(str(n)+\" n'est pas divisible par \"+str(k))\n",
    "a=[5,6,9]\n",
    "b=[3,2,3]\n",
    "for i in range(3):\n",
    "    est_divisible_par(a[i],b[i])"
   ]
  },
  {
   "cell_type": "code",
   "execution_count": 16,
   "metadata": {},
   "outputs": [
    {
     "name": "stdout",
     "output_type": "stream",
     "text": [
      "2 est pair\n",
      "4 est pair\n",
      "3 n'est pas pair\n",
      "7 n'est pas pair\n"
     ]
    }
   ],
   "source": [
    "#arithmetique_paire.py\n",
    "def est_paire(n):\n",
    "    if n%2 == 0:\n",
    "        print(str(n)+\" est pair\")\n",
    "    else:\n",
    "        print(str(n)+\" n'est pas pair\")\n",
    "\n",
    "a=[2,4,3,7]\n",
    "\n",
    "for i in range(4):\n",
    "    est_paire(a[i])"
   ]
  },
  {
   "cell_type": "code",
   "execution_count": 17,
   "metadata": {},
   "outputs": [
    {
     "name": "stdout",
     "output_type": "stream",
     "text": [
      "4\n",
      "8\n",
      "6\n",
      "4 n'est pas compris dans [8,6]\n"
     ]
    }
   ],
   "source": [
    "#compris_dans.py\n",
    "x=input()\n",
    "y=input()\n",
    "z=input()\n",
    "def est_compris_dans(a,b,c):\n",
    "    if a<z and a>y:\n",
    "        print(str(a)+\" est compris dans [ \"+str(b)+\",\"+str(c)+\" ]\")\n",
    "    else:\n",
    "        print(str(a)+\" n'est pas compris dans [\"+str(b)+\",\"+str(c)+\"]\")\n",
    "est_compris_dans(x,y,z)"
   ]
  },
  {
   "cell_type": "markdown",
   "metadata": {},
   "source": [
    "## Les modules\n"
   ]
  },
  {
   "cell_type": "code",
   "execution_count": 1,
   "metadata": {},
   "outputs": [
    {
     "name": "stdout",
     "output_type": "stream",
     "text": [
      "La somme des entiers allant de 0 à 5 vaut :\n",
      "15.0\n"
     ]
    }
   ],
   "source": [
    "#coding=UTF-8\n",
    "import util\n",
    "n=5\n",
    "print(\"La somme des entiers allant de 0 à \"+str(n)+\" vaut :\")\n",
    "print(util.somme(n))"
   ]
  },
  {
   "cell_type": "code",
   "execution_count": null,
   "metadata": {},
   "outputs": [],
   "source": []
  }
 ],
 "metadata": {
  "kernelspec": {
   "display_name": "Python 3",
   "language": "python",
   "name": "python3"
  },
  "language_info": {
   "codemirror_mode": {
    "name": "ipython",
    "version": 3
   },
   "file_extension": ".py",
   "mimetype": "text/x-python",
   "name": "python",
   "nbconvert_exporter": "python",
   "pygments_lexer": "ipython3",
   "version": "3.6.5"
  }
 },
 "nbformat": 4,
 "nbformat_minor": 2
}
